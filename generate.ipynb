{
 "cells": [
  {
   "cell_type": "code",
   "execution_count": 2,
   "metadata": {},
   "outputs": [
    {
     "name": "stdout",
     "output_type": "stream",
     "text": [
      "   Color    Age  Satisfaction Rating  Gender\n",
      "0    Red  50.50                    1    Male\n",
      "1    Red  37.30                    3  Female\n",
      "2  Green  48.31                    3    Male\n",
      "3   Blue  50.35                    3  Female\n",
      "4   Blue  48.94                    3  Female\n"
     ]
    }
   ],
   "source": [
    "import pandas as pd\n",
    "import numpy as np\n",
    "import random\n",
    "\n",
    "# Set random seed for reproducibility\n",
    "random.seed(42)\n",
    "\n",
    "# Number of records\n",
    "num_records = 20\n",
    "\n",
    "# Categorical data (e.g., color)\n",
    "categories = ['Red', 'Blue', 'Green', 'Yellow', 'Purple']\n",
    "categorical_data = [random.choice(categories) for _ in range(num_records)]\n",
    "\n",
    "# Numerical data (e.g., age, salary, etc.)\n",
    "numerical_data = np.random.uniform(20, 60, num_records).round(2)  # Age between 20 and 60\n",
    "\n",
    "# Ordinal data (e.g., rating system: 1 = Low, 2 = Medium, 3 = High)\n",
    "ordinal_data = [random.choice([1, 2, 3]) for _ in range(num_records)]  # 1 = Low, 2 = Medium, 3 = High\n",
    "\n",
    "# Nominal data (e.g., gender, country)\n",
    "nominal_data = ['Male', 'Female']\n",
    "nominal_data_col = [random.choice(nominal_data) for _ in range(num_records)]\n",
    "\n",
    "# Combine all the data into a DataFrame\n",
    "data = {\n",
    "    'Color': categorical_data,\n",
    "    'Age': numerical_data,\n",
    "    'Satisfaction Rating': ordinal_data,\n",
    "    'Gender': nominal_data_col,\n",
    "}\n",
    "\n",
    "df = pd.DataFrame(data)\n",
    "\n",
    "# Display the dataset\n",
    "# Show the first few rows\n",
    "print(df.head())\n"
   ]
  }
 ],
 "metadata": {
  "kernelspec": {
   "display_name": "tf-metal",
   "language": "python",
   "name": "python3"
  },
  "language_info": {
   "codemirror_mode": {
    "name": "ipython",
    "version": 3
   },
   "file_extension": ".py",
   "mimetype": "text/x-python",
   "name": "python",
   "nbconvert_exporter": "python",
   "pygments_lexer": "ipython3",
   "version": "3.10.14"
  }
 },
 "nbformat": 4,
 "nbformat_minor": 2
}
